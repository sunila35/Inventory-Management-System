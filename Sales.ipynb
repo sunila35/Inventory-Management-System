{
 "cells": [
  {
   "cell_type": "markdown",
   "id": "fffd6dd1",
   "metadata": {},
   "source": [
    "## INVENTORY MANAGEMENT SYSTEM"
   ]
  },
  {
   "cell_type": "markdown",
   "id": "ccf22bca",
   "metadata": {},
   "source": [
    "# Purchasing a product"
   ]
  },
  {
   "cell_type": "code",
   "execution_count": 9,
   "id": "2d2fd054",
   "metadata": {},
   "outputs": [
    {
     "name": "stdout",
     "output_type": "stream",
     "text": [
      "enter the name of the product you want to buysnikers\n",
      "enter the quantity you want to buy8\n",
      "type c if you want to continue else ss\n"
     ]
    }
   ],
   "source": [
    "import json\n",
    "from datetime import datetime\n",
    "fp=open(\"rec2.json\",\"r\")\n",
    "data=fp.read()\n",
    "fp.close()\n",
    "products=json.loads(data)    #json to dict(loads)\n",
    "x=\"c\"\n",
    "amt=0\n",
    "id=[]\n",
    "name=[]\n",
    "qu=[]\n",
    "price=[]\n",
    "typ=[]\n",
    "com=[]\n",
    "while(x=='c'):\n",
    "    p_name=input(\"enter the name of the product you want to buy\")\n",
    "    for i in products:\n",
    "        if(products[i]['pname']==p_name):\n",
    "            p_quant=int(input(\"enter the quantity you want to buy\"))\n",
    "            if(products[i]['quantity']<p_quant):\n",
    "                print(\"sorry required quantity is not available\")\n",
    "                x=input(\"type c if you want to continue else s\")  \n",
    "                break\n",
    "            else:  \n",
    "                amt+=products[i]['price']*p_quant\n",
    "                products[i]['quantity']-=p_quant\n",
    "                id.append(i)\n",
    "                name.append(products[i]['pname'])\n",
    "                qu.append(p_quant)\n",
    "                price.append(products[i]['price']*p_quant)\n",
    "                typ.append(products[i]['Ptype'])\n",
    "                com.append(products[i]['company'])\n",
    "                x=input(\"type c if you want to continue else s\")\n",
    "                break\n",
    "    else:\n",
    "        print(\"sorry the required product is not available\")\n",
    "        x=input(\"type c if you want to continue shopping else s if you want to stop\")\n",
    "        break\n",
    "\n",
    "            \n",
    "\n",
    "\n",
    "\n"
   ]
  },
  {
   "cell_type": "markdown",
   "id": "6e5e9d81",
   "metadata": {},
   "source": [
    "# Updating the rec2.json file"
   ]
  },
  {
   "cell_type": "code",
   "execution_count": 10,
   "id": "b4b8fb2a",
   "metadata": {},
   "outputs": [],
   "source": [
    "js=json.dumps(products)   #dict to json(DUMPS)\n",
    "fp=open(\"rec2.json\",\"w\")\n",
    "fp.write(js)\n",
    "fp.close() "
   ]
  },
  {
   "cell_type": "markdown",
   "id": "6fbd2f4b",
   "metadata": {},
   "source": [
    "# Printing the bill"
   ]
  },
  {
   "cell_type": "code",
   "execution_count": 11,
   "id": "85c4a755",
   "metadata": {},
   "outputs": [
    {
     "name": "stdout",
     "output_type": "stream",
     "text": [
      "\n",
      "\n",
      "\n",
      "BILL\n",
      "_________\n",
      "\n",
      "id      name           quantity    company     price\n",
      "\n",
      "1001   snikers           8          Mars              80\n",
      "\n",
      "\n",
      "Total bill= 80\n",
      "________\n",
      "\n",
      "THANK YOU\n",
      "\n",
      "\n",
      "2021-09-05 19:54:55.058162\n",
      "Enter user name:koosuru\n",
      "Enter the phoneno: 1234678905\n"
     ]
    }
   ],
   "source": [
    "print(\"\\n\\n\")\n",
    "print(\"BILL\")\n",
    "print(\"_________\")\n",
    "print()\n",
    "print(\"id\",end=\"      \") \n",
    "print(\"name\",end=\"           \")\n",
    "print(\"quantity\",end=\"    \")\n",
    "print(\"company\",end=\"     \")\n",
    "print(\"price\")\n",
    "print()\n",
    "\n",
    "for i in range(len(id)):\n",
    "    print(id[i],end=\"   \") \n",
    "    print(name[i],end=\"           \")\n",
    "    print(qu[i],end=\"          \")\n",
    "    print(com[i],end=\"              \")\n",
    "    print(price[i])\n",
    "print()\n",
    "print()\n",
    "print(\"Total bill=\",amt)\n",
    "    \n",
    "print(\"________\")\n",
    "print()\n",
    "print(\"THANK YOU\")\n",
    "print()\n",
    "print()\n",
    "now=datetime.now()\n",
    "print(now)\n",
    "\n",
    "\n",
    "\n",
    "user=str(input(\"Enter user name:\"))\n",
    "uphoneno = input(\"Enter the phoneno: \")\n",
    "\n",
    "\n",
    "fp=open(\"sales.txt\",\"a\")\n",
    "fp.write(\"User name: \")\n",
    "fp.write(user)\n",
    "fp.write(\"   \")\n",
    "fp.write(\"Phone number: \")\n",
    "fp.write(uphoneno)\n",
    "fp.write(\"   \")\n",
    "fp.write(\"time:\")\n",
    "fp.write(str(now))\n",
    "fp.write(\"\\n\")\n",
    "fp.close()\n",
    "for i in range(len(id)):\n",
    "    sales = {\"productid\":id[i],\"typeofproduct\":typ[i],\"company\":com[i],\"price\":price[i],\"quantity\":qu[i]}\n",
    "    j=json.dumps(sales)\n",
    "    fp=open(\"sales.txt\",\"a\")\n",
    "    fp.write(j)\n",
    "    fp.close()\n",
    "    \n",
    "    \n",
    "fp=open(\"sales.txt\",\"a\")\n",
    "fp.write(\"Total bill: \")\n",
    "fp.write(str(amt))\n",
    "fp.write(\"\\n\")\n",
    "fp.write(\"\\n\")\n",
    "fp.close()"
   ]
  },
  {
   "cell_type": "markdown",
   "id": "e2413433",
   "metadata": {},
   "source": [
    "# Adding a product"
   ]
  },
  {
   "cell_type": "code",
   "execution_count": 6,
   "id": "26adf99a",
   "metadata": {
    "scrolled": true
   },
   "outputs": [
    {
     "name": "stdout",
     "output_type": "stream",
     "text": [
      "enter product id1111\n",
      "enter product nameyekk\n",
      "enter type of productfood\n",
      "enter price89\n",
      "enter quantity3\n",
      "enter name of the companylinked\n"
     ]
    }
   ],
   "source": [
    "import json\n",
    "pid=input(\"enter product id\")\n",
    "name=input(\"enter product name\")\n",
    "ptype=input(\"enter type of product\")\n",
    "price=int(input(\"enter price\"))\n",
    "qu=int(input(\"enter quantity\"))\n",
    "cmp=input(\"enter name of the company\")\n",
    "fp=open(\"rec2.json\",\"r\")\n",
    "data=fp.read()\n",
    "fp.close()\n",
    "products=json.loads(data)\n",
    "\n",
    "for i in products:\n",
    "    if(i==pid):\n",
    "        products[i]['price']=price\n",
    "        products[i]['quantity']+=qu\n",
    "        js=json.dumps(products)\n",
    "        fp=open(\"rec2.json\",\"w\")\n",
    "        fp.write(js)\n",
    "        fp.close()\n",
    "        break\n",
    "else:        \n",
    "    products[pid]={\"pname\":name,\"Ptype\":ptype,\"price\":price,\"quantity\":qu,\"company\":cmp}\n",
    "    js=json.dumps(products)\n",
    "    fp=open(\"rec2.json\",\"w\")\n",
    "    fp.write(js)\n",
    "    fp.close()"
   ]
  },
  {
   "cell_type": "code",
   "execution_count": null,
   "id": "15f51f11",
   "metadata": {},
   "outputs": [],
   "source": []
  }
 ],
 "metadata": {
  "kernelspec": {
   "display_name": "Python 3",
   "language": "python",
   "name": "python3"
  },
  "language_info": {
   "codemirror_mode": {
    "name": "ipython",
    "version": 3
   },
   "file_extension": ".py",
   "mimetype": "text/x-python",
   "name": "python",
   "nbconvert_exporter": "python",
   "pygments_lexer": "ipython3",
   "version": "3.8.8"
  }
 },
 "nbformat": 4,
 "nbformat_minor": 5
}
